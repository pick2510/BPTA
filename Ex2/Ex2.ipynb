{
 "cells": [
  {
   "cell_type": "code",
   "execution_count": 20,
   "metadata": {},
   "outputs": [],
   "source": [
    "import numpy as np\n",
    "import matplotlib.pyplot as plt\n",
    "import pandas as pd\n",
    "import lmfit\n",
    "from scipy.optimize import curve_fit\n",
    "plt.rcParams['figure.figsize'] = 15, 8\n",
    "from ipywidgets import interact, interactive, fixed, interact_manual, FloatSlider\n",
    "import ipywidgets as widgets\n",
    "markerlist = [\"d\", \"x\", \"o\"]\n",
    "#constants:\n",
    "delta_a=1.92e-10\n",
    "rho_l=1000\n",
    "Rv=462\n",
    "T=293.15\n",
    "T_C = T -273.15\n",
    "pv_sat = 611 * np.exp((17.08 * T_C)/(234.18 + T_C))\n",
    "\n",
    "######\n",
    "def vap_fit(w,ld0,a,b,c):\n",
    "    return a + (ld0 - a) * np.exp(-b * w) + c * w\n",
    "\n"
   ]
  },
  {
   "cell_type": "code",
   "execution_count": 8,
   "metadata": {},
   "outputs": [],
   "source": [
    "vapour_diff = pd.read_excel(\"HS20_MBS_BPTA_201202_Exercise_Data.xls\", sheet_name=\"vapour diff\", header=13, nrows=3)"
   ]
  },
  {
   "cell_type": "code",
   "execution_count": 17,
   "metadata": {},
   "outputs": [
    {
     "data": {
      "text/html": [
       "<div>\n",
       "<style scoped>\n",
       "    .dataframe tbody tr th:only-of-type {\n",
       "        vertical-align: middle;\n",
       "    }\n",
       "\n",
       "    .dataframe tbody tr th {\n",
       "        vertical-align: top;\n",
       "    }\n",
       "\n",
       "    .dataframe thead th {\n",
       "        text-align: right;\n",
       "    }\n",
       "</style>\n",
       "<table border=\"1\" class=\"dataframe\">\n",
       "  <thead>\n",
       "    <tr style=\"text-align: right;\">\n",
       "      <th></th>\n",
       "      <th>RH</th>\n",
       "      <th>mu</th>\n",
       "      <th>Kv</th>\n",
       "      <th>pc</th>\n",
       "      <th>log pc</th>\n",
       "      <th>w1</th>\n",
       "      <th>w2</th>\n",
       "      <th>w</th>\n",
       "      <th>dwdpc1</th>\n",
       "      <th>dwdpc2</th>\n",
       "      <th>cap</th>\n",
       "      <th>Dv</th>\n",
       "      <th>LDv</th>\n",
       "      <th>fit LDv</th>\n",
       "      <th>Unnamed: 14</th>\n",
       "      <th>plot w</th>\n",
       "      <th>fit LDv.1</th>\n",
       "    </tr>\n",
       "  </thead>\n",
       "  <tbody>\n",
       "    <tr>\n",
       "      <th>0</th>\n",
       "      <td>0.30</td>\n",
       "      <td>23</td>\n",
       "      <td>4.331768e-17</td>\n",
       "      <td>1.630604e+08</td>\n",
       "      <td>8.212349</td>\n",
       "      <td>2.156635</td>\n",
       "      <td>4.711406</td>\n",
       "      <td>6.868041</td>\n",
       "      <td>-1.123541e-08</td>\n",
       "      <td>-1.733502e-08</td>\n",
       "      <td>2.857043e-08</td>\n",
       "      <td>1.516172e-09</td>\n",
       "      <td>-8.819252</td>\n",
       "      <td>NaN</td>\n",
       "      <td>NaN</td>\n",
       "      <td>0</td>\n",
       "      <td>NaN</td>\n",
       "    </tr>\n",
       "    <tr>\n",
       "      <th>1</th>\n",
       "      <td>0.70</td>\n",
       "      <td>12</td>\n",
       "      <td>1.937263e-16</td>\n",
       "      <td>4.830638e+07</td>\n",
       "      <td>7.684004</td>\n",
       "      <td>6.051529</td>\n",
       "      <td>9.774440</td>\n",
       "      <td>15.825969</td>\n",
       "      <td>-1.058855e-07</td>\n",
       "      <td>-1.213490e-07</td>\n",
       "      <td>2.272345e-07</td>\n",
       "      <td>8.525390e-10</td>\n",
       "      <td>-9.069286</td>\n",
       "      <td>NaN</td>\n",
       "      <td>NaN</td>\n",
       "      <td>2</td>\n",
       "      <td>NaN</td>\n",
       "    </tr>\n",
       "    <tr>\n",
       "      <th>2</th>\n",
       "      <td>0.92</td>\n",
       "      <td>3</td>\n",
       "      <td>1.018447e-15</td>\n",
       "      <td>1.129281e+07</td>\n",
       "      <td>7.052802</td>\n",
       "      <td>20.118663</td>\n",
       "      <td>23.340691</td>\n",
       "      <td>43.459354</td>\n",
       "      <td>-1.398258e-06</td>\n",
       "      <td>-1.234226e-06</td>\n",
       "      <td>2.632484e-06</td>\n",
       "      <td>3.868767e-10</td>\n",
       "      <td>-9.412427</td>\n",
       "      <td>NaN</td>\n",
       "      <td>NaN</td>\n",
       "      <td>4</td>\n",
       "      <td>NaN</td>\n",
       "    </tr>\n",
       "  </tbody>\n",
       "</table>\n",
       "</div>"
      ],
      "text/plain": [
       "     RH  mu            Kv            pc    log pc         w1         w2  \\\n",
       "0  0.30  23  4.331768e-17  1.630604e+08  8.212349   2.156635   4.711406   \n",
       "1  0.70  12  1.937263e-16  4.830638e+07  7.684004   6.051529   9.774440   \n",
       "2  0.92   3  1.018447e-15  1.129281e+07  7.052802  20.118663  23.340691   \n",
       "\n",
       "           w        dwdpc1        dwdpc2           cap            Dv  \\\n",
       "0   6.868041 -1.123541e-08 -1.733502e-08  2.857043e-08  1.516172e-09   \n",
       "1  15.825969 -1.058855e-07 -1.213490e-07  2.272345e-07  8.525390e-10   \n",
       "2  43.459354 -1.398258e-06 -1.234226e-06  2.632484e-06  3.868767e-10   \n",
       "\n",
       "        LDv  fit LDv  Unnamed: 14  plot w  fit LDv.1  \n",
       "0 -8.819252      NaN          NaN       0        NaN  \n",
       "1 -9.069286      NaN          NaN       2        NaN  \n",
       "2 -9.412427      NaN          NaN       4        NaN  "
      ]
     },
     "execution_count": 17,
     "metadata": {},
     "output_type": "execute_result"
    }
   ],
   "source": [
    "vapour_diff[\"Kv\"] = (delta_a * vapour_diff[\"RH\"] * pv_sat)/(vapour_diff[\"mu\"] * rho_l * Rv * T)\n",
    "vapour_diff[\"Dv\"] = vapour_diff[\"Kv\"] / vapour_diff[\"cap\"]\n",
    "vapour_diff[\"LDv\"] = np.log10(vapour_diff[\"Dv\"])\n",
    "vapour_diff"
   ]
  },
  {
   "cell_type": "code",
   "execution_count": 24,
   "metadata": {
    "scrolled": true
   },
   "outputs": [
    {
     "ename": "TypeError",
     "evalue": "Improper input: N=4 must not exceed M=3",
     "output_type": "error",
     "traceback": [
      "\u001b[0;31m---------------------------------------------------------------------------\u001b[0m",
      "\u001b[0;31mTypeError\u001b[0m                                 Traceback (most recent call last)",
      "\u001b[0;32m<ipython-input-24-6e1746011c95>\u001b[0m in \u001b[0;36m<module>\u001b[0;34m\u001b[0m\n\u001b[0;32m----> 1\u001b[0;31m \u001b[0mcurve_fit\u001b[0m\u001b[0;34m(\u001b[0m\u001b[0mvap_fit\u001b[0m\u001b[0;34m,\u001b[0m \u001b[0mvapour_diff\u001b[0m\u001b[0;34m[\u001b[0m\u001b[0;34m\"w\"\u001b[0m\u001b[0;34m]\u001b[0m\u001b[0;34m,\u001b[0m \u001b[0mvapour_diff\u001b[0m\u001b[0;34m[\u001b[0m\u001b[0;34m\"LDv\"\u001b[0m\u001b[0;34m]\u001b[0m\u001b[0;34m,\u001b[0m \u001b[0mp0\u001b[0m\u001b[0;34m=\u001b[0m\u001b[0;34m[\u001b[0m\u001b[0;36m0\u001b[0m\u001b[0;34m,\u001b[0m\u001b[0;36m0\u001b[0m\u001b[0;34m,\u001b[0m\u001b[0;36m0\u001b[0m\u001b[0;34m,\u001b[0m\u001b[0;36m0\u001b[0m\u001b[0;34m]\u001b[0m\u001b[0;34m)\u001b[0m\u001b[0;34m\u001b[0m\u001b[0;34m\u001b[0m\u001b[0m\n\u001b[0m",
      "\u001b[0;32m~/anaconda3/lib/python3.8/site-packages/scipy/optimize/minpack.py\u001b[0m in \u001b[0;36mcurve_fit\u001b[0;34m(f, xdata, ydata, p0, sigma, absolute_sigma, check_finite, bounds, method, jac, **kwargs)\u001b[0m\n\u001b[1;32m    782\u001b[0m         \u001b[0;31m# Remove full_output from kwargs, otherwise we're passing it in twice.\u001b[0m\u001b[0;34m\u001b[0m\u001b[0;34m\u001b[0m\u001b[0;34m\u001b[0m\u001b[0m\n\u001b[1;32m    783\u001b[0m         \u001b[0mreturn_full\u001b[0m \u001b[0;34m=\u001b[0m \u001b[0mkwargs\u001b[0m\u001b[0;34m.\u001b[0m\u001b[0mpop\u001b[0m\u001b[0;34m(\u001b[0m\u001b[0;34m'full_output'\u001b[0m\u001b[0;34m,\u001b[0m \u001b[0;32mFalse\u001b[0m\u001b[0;34m)\u001b[0m\u001b[0;34m\u001b[0m\u001b[0;34m\u001b[0m\u001b[0m\n\u001b[0;32m--> 784\u001b[0;31m         \u001b[0mres\u001b[0m \u001b[0;34m=\u001b[0m \u001b[0mleastsq\u001b[0m\u001b[0;34m(\u001b[0m\u001b[0mfunc\u001b[0m\u001b[0;34m,\u001b[0m \u001b[0mp0\u001b[0m\u001b[0;34m,\u001b[0m \u001b[0mDfun\u001b[0m\u001b[0;34m=\u001b[0m\u001b[0mjac\u001b[0m\u001b[0;34m,\u001b[0m \u001b[0mfull_output\u001b[0m\u001b[0;34m=\u001b[0m\u001b[0;36m1\u001b[0m\u001b[0;34m,\u001b[0m \u001b[0;34m**\u001b[0m\u001b[0mkwargs\u001b[0m\u001b[0;34m)\u001b[0m\u001b[0;34m\u001b[0m\u001b[0;34m\u001b[0m\u001b[0m\n\u001b[0m\u001b[1;32m    785\u001b[0m         \u001b[0mpopt\u001b[0m\u001b[0;34m,\u001b[0m \u001b[0mpcov\u001b[0m\u001b[0;34m,\u001b[0m \u001b[0minfodict\u001b[0m\u001b[0;34m,\u001b[0m \u001b[0merrmsg\u001b[0m\u001b[0;34m,\u001b[0m \u001b[0mier\u001b[0m \u001b[0;34m=\u001b[0m \u001b[0mres\u001b[0m\u001b[0;34m\u001b[0m\u001b[0;34m\u001b[0m\u001b[0m\n\u001b[1;32m    786\u001b[0m         \u001b[0mysize\u001b[0m \u001b[0;34m=\u001b[0m \u001b[0mlen\u001b[0m\u001b[0;34m(\u001b[0m\u001b[0minfodict\u001b[0m\u001b[0;34m[\u001b[0m\u001b[0;34m'fvec'\u001b[0m\u001b[0;34m]\u001b[0m\u001b[0;34m)\u001b[0m\u001b[0;34m\u001b[0m\u001b[0;34m\u001b[0m\u001b[0m\n",
      "\u001b[0;32m~/anaconda3/lib/python3.8/site-packages/scipy/optimize/minpack.py\u001b[0m in \u001b[0;36mleastsq\u001b[0;34m(func, x0, args, Dfun, full_output, col_deriv, ftol, xtol, gtol, maxfev, epsfcn, factor, diag)\u001b[0m\n\u001b[1;32m    412\u001b[0m \u001b[0;34m\u001b[0m\u001b[0m\n\u001b[1;32m    413\u001b[0m     \u001b[0;32mif\u001b[0m \u001b[0mn\u001b[0m \u001b[0;34m>\u001b[0m \u001b[0mm\u001b[0m\u001b[0;34m:\u001b[0m\u001b[0;34m\u001b[0m\u001b[0;34m\u001b[0m\u001b[0m\n\u001b[0;32m--> 414\u001b[0;31m         \u001b[0;32mraise\u001b[0m \u001b[0mTypeError\u001b[0m\u001b[0;34m(\u001b[0m\u001b[0;34m'Improper input: N=%s must not exceed M=%s'\u001b[0m \u001b[0;34m%\u001b[0m \u001b[0;34m(\u001b[0m\u001b[0mn\u001b[0m\u001b[0;34m,\u001b[0m \u001b[0mm\u001b[0m\u001b[0;34m)\u001b[0m\u001b[0;34m)\u001b[0m\u001b[0;34m\u001b[0m\u001b[0;34m\u001b[0m\u001b[0m\n\u001b[0m\u001b[1;32m    415\u001b[0m \u001b[0;34m\u001b[0m\u001b[0m\n\u001b[1;32m    416\u001b[0m     \u001b[0;32mif\u001b[0m \u001b[0mepsfcn\u001b[0m \u001b[0;32mis\u001b[0m \u001b[0;32mNone\u001b[0m\u001b[0;34m:\u001b[0m\u001b[0;34m\u001b[0m\u001b[0;34m\u001b[0m\u001b[0m\n",
      "\u001b[0;31mTypeError\u001b[0m: Improper input: N=4 must not exceed M=3"
     ]
    }
   ],
   "source": [
    "curve_fit(vap_fit, vapour_diff[\"w\"], vapour_diff[\"LDv\"], p0=[0,0,0,0])"
   ]
  },
  {
   "cell_type": "code",
   "execution_count": 25,
   "metadata": {},
   "outputs": [
    {
     "data": {
      "text/plain": [
       "0     6.868041\n",
       "1    15.825969\n",
       "2    43.459354\n",
       "Name: w, dtype: float64"
      ]
     },
     "execution_count": 25,
     "metadata": {},
     "output_type": "execute_result"
    }
   ],
   "source": [
    "vapour_diff[\"w\"], vapour_diff[\"ld\"]"
   ]
  },
  {
   "cell_type": "code",
   "execution_count": null,
   "metadata": {},
   "outputs": [],
   "source": []
  }
 ],
 "metadata": {
  "kernelspec": {
   "display_name": "Python 3",
   "language": "python",
   "name": "python3"
  },
  "language_info": {
   "codemirror_mode": {
    "name": "ipython",
    "version": 3
   },
   "file_extension": ".py",
   "mimetype": "text/x-python",
   "name": "python",
   "nbconvert_exporter": "python",
   "pygments_lexer": "ipython3",
   "version": "3.8.2"
  }
 },
 "nbformat": 4,
 "nbformat_minor": 4
}
